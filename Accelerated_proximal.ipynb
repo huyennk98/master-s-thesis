{
 "cells": [
  {
   "cell_type": "code",
   "execution_count": 98,
   "metadata": {
    "id": "o0BNQU8j4pTt"
   },
   "outputs": [],
   "source": [
    "\n",
    "import math  \n",
    "import numpy as np   \n",
    "import random  as rd\n",
    "import matplotlib.pyplot as plt  \n",
    "from matplotlib import colors\n",
    "import numba  \n",
    "from numba import njit  \n",
    "import time  \n",
    "from matplotlib.pyplot import figure\n",
    "\n",
    "from numba.typed import List   \n",
    "from collections import defaultdict   \n",
    "import random as rd\n",
    "\n",
    "from scipy.sparse import csr_matrix\n",
    "from scipy import linalg\n"
   ]
  },
  {
   "cell_type": "code",
   "execution_count": 99,
   "metadata": {
    "id": "wWn7wTj6r-d4"
   },
   "outputs": [],
   "source": [
    "n1=1000\n",
    "n2=1600\n",
    "r=10\n",
    "ratio = 0.3\n",
    "def  create_fake_data():\n",
    "    K= np.random.rand(n1, r)\n",
    "    L= np.random.rand(r, n2)\n",
    "    return K@L\n",
    "M = create_fake_data()\n",
    "# Omega  =  [ ]\n",
    "p = round(n1*n2*ratio)\n",
    "# for i in range(p):\n",
    "#     Omega.append( [ rd.randint (0, n1-1),rd.randint (0, n2-1) ])\n",
    "# Omega =  np.array (Omega, np.int_)\n",
    "\n",
    "def get_m_random_index_of_matrix(n_1, n_2, m):\n",
    "    return rd.sample([(i, j) for i in range(n_1) for j in range(n_2)], m)\n",
    "Omega = np.array(get_m_random_index_of_matrix(n1, n2, p))\n",
    "\n",
    "b = np.empty( (p), np.float_)\n",
    "for i in range(p):\n",
    "    b[i] = M[Omega[i,0], Omega[i,1]]"
   ]
  },
  {
   "cell_type": "code",
   "execution_count": 100,
   "metadata": {
    "colab": {
     "base_uri": "https://localhost:8080/"
    },
    "id": "bcOssEqu4-lu",
    "outputId": "833f0b98-cedc-4159-92d5-09e8e9a3ce64"
   },
   "outputs": [
    {
     "data": {
      "text/plain": [
       "6.614007898526751"
      ]
     },
     "execution_count": 100,
     "metadata": {},
     "output_type": "execute_result"
    }
   ],
   "source": [
    "max(M.flatten())"
   ]
  },
  {
   "cell_type": "code",
   "execution_count": 101,
   "metadata": {
    "id": "GfVfohuir-gY"
   },
   "outputs": [],
   "source": [
    "index = [  o[0]*n2+ o[1] for o in Omega]\n",
    "index\n",
    "A= csr_matrix(([1]*p, (range(p),index)), shape=(p, n1*n2)  )\n",
    "A_T=  A.T"
   ]
  },
  {
   "cell_type": "code",
   "execution_count": 102,
   "metadata": {
    "colab": {
     "base_uri": "https://localhost:8080/"
    },
    "id": "Fiht-b_4wjnX",
    "outputId": "83baa2a1-37b1-4484-8dfa-dea5142c1b26"
   },
   "outputs": [
    {
     "data": {
      "text/plain": [
       "(480000, 1600000)"
      ]
     },
     "execution_count": 102,
     "metadata": {},
     "output_type": "execute_result"
    }
   ],
   "source": [
    "A.shape"
   ]
  },
  {
   "cell_type": "code",
   "execution_count": 103,
   "metadata": {
    "colab": {
     "base_uri": "https://localhost:8080/"
    },
    "id": "6fNYISgewmMG",
    "outputId": "0ae07b59-f474-4b56-d970-ae59b426b59b"
   },
   "outputs": [
    {
     "data": {
      "text/plain": [
       "(1600000, 480000)"
      ]
     },
     "execution_count": 103,
     "metadata": {},
     "output_type": "execute_result"
    }
   ],
   "source": [
    "A_T.shape"
   ]
  },
  {
   "cell_type": "code",
   "execution_count": null,
   "metadata": {
    "id": "rn5uCDKZbJNk"
   },
   "outputs": [],
   "source": []
  },
  {
   "cell_type": "code",
   "execution_count": 104,
   "metadata": {
    "id": "l7IT2yG4sDQH"
   },
   "outputs": [],
   "source": [
    "AA_T =A@A_T\n",
    "A_TA =A_T@A\n",
    "A_Tb  =  A_T@b\n",
    "mu0= np.linalg.norm(A_Tb)"
   ]
  },
  {
   "cell_type": "code",
   "execution_count": 105,
   "metadata": {
    "colab": {
     "base_uri": "https://localhost:8080/"
    },
    "id": "7iHCyss4xD_t",
    "outputId": "cde8d001-5d79-4290-df6b-1cec5ede7a7d"
   },
   "outputs": [
    {
     "data": {
      "text/plain": [
       "(1600000,)"
      ]
     },
     "execution_count": 105,
     "metadata": {},
     "output_type": "execute_result"
    }
   ],
   "source": [
    "A_Tb.shape"
   ]
  },
  {
   "cell_type": "code",
   "execution_count": 106,
   "metadata": {
    "id": "Fo_Dn44_bMjT"
   },
   "outputs": [],
   "source": [
    "# X = A_Tb.reshape(n1,n2)\n",
    "# a = np.linalg.matrix_rank(X)\n",
    "# a"
   ]
  },
  {
   "cell_type": "code",
   "execution_count": null,
   "metadata": {
    "id": "srOSzeZpclhU"
   },
   "outputs": [],
   "source": []
  },
  {
   "cell_type": "code",
   "execution_count": 107,
   "metadata": {
    "id": "XQrZUjAKsFx-"
   },
   "outputs": [],
   "source": [
    "def vec_to_mat_X(X):\n",
    "    return np.reshape(X, (n1, n2))"
   ]
  },
  {
   "cell_type": "code",
   "execution_count": 108,
   "metadata": {
    "colab": {
     "base_uri": "https://localhost:8080/"
    },
    "id": "CsLJXsVtsJhW",
    "outputId": "660f179a-cd73-408e-98df-b18a845899e8"
   },
   "outputs": [
    {
     "data": {
      "text/plain": [
       "array([ 0.        , -1.49262889,  0.        , ...,  0.        ,\n",
       "       -1.62993063,  0.        ])"
      ]
     },
     "execution_count": 108,
     "metadata": {},
     "output_type": "execute_result"
    }
   ],
   "source": [
    "z=np.random.rand ( (n1*n2))\n",
    "def nablaf_2(z):\n",
    "    return A_TA@z- A_Tb\n",
    "def compute_y_n( z, beta):\n",
    "    return z-(1/beta)*nablaf_2(z)\n",
    "nablaf_2(z)"
   ]
  },
  {
   "cell_type": "code",
   "execution_count": 109,
   "metadata": {
    "colab": {
     "base_uri": "https://localhost:8080/"
    },
    "id": "pXOH1Plti06P",
    "outputId": "acfb828b-7b24-4b40-a4f1-78894a3fc2f3"
   },
   "outputs": [
    {
     "data": {
      "text/plain": [
       "array([0.58508071, 0.42812402, 0.38039841, ..., 0.01999575, 0.18359236,\n",
       "       0.79226427])"
      ]
     },
     "execution_count": 109,
     "metadata": {},
     "output_type": "execute_result"
    }
   ],
   "source": [
    "z  "
   ]
  },
  {
   "cell_type": "code",
   "execution_count": 110,
   "metadata": {
    "id": "FUSqd6AwsTHP"
   },
   "outputs": [],
   "source": [
    "def proximal(Z, l_k,mu):\n",
    "    tau = mu/l_k\n",
    "    Z = np.reshape(Z, (n1, n2))\n",
    "    U,Sigma,V = linalg.svd(Z)\n",
    "   \n",
    "\n",
    "    full_sigma  = np.zeros( (n1,n2), np.float_)\n",
    "\n",
    "    for i in range(len(Sigma)):\n",
    "        if Sigma[i]>tau:\n",
    "            full_sigma[i][i] = Sigma[i]-tau\n",
    "\n",
    "   \n",
    "    return ((U@full_sigma)@V).flatten()"
   ]
  },
  {
   "cell_type": "code",
   "execution_count": null,
   "metadata": {
    "id": "1jbXSxfCioo9"
   },
   "outputs": [],
   "source": []
  },
  {
   "cell_type": "code",
   "execution_count": null,
   "metadata": {
    "id": "o1mCA-LBxnSd"
   },
   "outputs": [],
   "source": [
    "\n"
   ]
  },
  {
   "cell_type": "code",
   "execution_count": null,
   "metadata": {
    "id": "e2LZMZJhimxG"
   },
   "outputs": [],
   "source": []
  },
  {
   "cell_type": "code",
   "execution_count": 111,
   "metadata": {
    "colab": {
     "base_uri": "https://localhost:8080/"
    },
    "id": "HTYtIXdFynse",
    "outputId": "4a26de75-c862-4075-97f0-2c4a738cc358"
   },
   "outputs": [
    {
     "data": {
      "text/plain": [
       "(1600000,)"
      ]
     },
     "execution_count": 111,
     "metadata": {},
     "output_type": "execute_result"
    }
   ],
   "source": [
    "z.shape"
   ]
  },
  {
   "cell_type": "code",
   "execution_count": 112,
   "metadata": {
    "id": "jNCF9dB9sNuG"
   },
   "outputs": [],
   "source": [
    "def main_loop(z, beta=1, mu=0.0001*mu0, loop_size=1000):\n",
    "    t=np.zeros( (loop_size), np.float_)\n",
    "    t[0]=1\n",
    "    \n",
    "    Xold = proximal(z, beta,mu)\n",
    "    X = Xold\n",
    " \n",
    "    mu1 = mu0\n",
    "    for n in range(loop_size-1):\n",
    "\n",
    "        t[n+1]= (math.sqrt(4*t[n]*t[n]+1)+1)/2\n",
    "        \n",
    "        lambda_loop = (t[n]-1)/t[n+1]\n",
    "\n",
    "        mu1= max(mu1*0.7, mu)\n",
    "        \n",
    "        Y = X+ lambda_loop*(X-Xold)\n",
    "\n",
    "        Xold = X\n",
    "\n",
    "        Z = Y - (1/beta)*nablaf_2(Y)\n",
    "        \n",
    "        X = proximal(Z, beta,mu1)\n",
    "        \n",
    "        print(n,\"error\",np.linalg.norm(vec_to_mat_X(X)-M)/ np.linalg.norm(M))\n",
    "\n",
    "        stop_condition = abs(np.linalg.norm(A@ X - b ) - np.linalg.norm(A @ Xold -b)) / (max(1, np.linalg.norm(b)))\n",
    "#         print(stop_condition)\n",
    "        if stop_condition < 5e-5:\n",
    "            count+=1\n",
    "            print(\"sovonglap:\",n)\n",
    "        else: \n",
    "            count=0\n",
    "        if count==5:\n",
    "            break\n",
    "\n",
    "    return X"
   ]
  },
  {
   "cell_type": "code",
   "execution_count": 113,
   "metadata": {
    "colab": {
     "base_uri": "https://localhost:8080/",
     "height": 1000
    },
    "id": "YYFQYYkdsNwt",
    "outputId": "a6e16caa-2658-4a0c-c71a-a8c8ca8fc94c"
   },
   "outputs": [
    {
     "name": "stdout",
     "output_type": "stream",
     "text": [
      "0 error 0.9526149291449584\n",
      "1 error 0.9636094465654167\n",
      "2 error 0.8675711238293138\n",
      "3 error 0.7060482890599817\n",
      "4 error 0.5230977508692338\n",
      "5 error 0.3544255109829096\n",
      "6 error 0.22329252311674042\n",
      "7 error 0.14110934034598727\n",
      "8 error 0.10588451023307957\n",
      "9 error 0.09778876052325658\n",
      "10 error 0.09701503871025789\n",
      "11 error 0.09050967685529152\n",
      "12 error 0.0761754105817309\n",
      "13 error 0.05758913792832621\n",
      "14 error 0.03910402883535193\n",
      "15 error 0.023799086727803346\n",
      "16 error 0.012990698175196751\n",
      "17 error 0.006594521641511687\n",
      "18 error 0.003703738694392952\n",
      "19 error 0.002828786968134822\n",
      "20 error 0.0026203075755442513\n",
      "21 error 0.0025920742046602646\n",
      "22 error 0.002577074450071296\n",
      "sovonglap: 22\n",
      "23 error 0.0024666740561825337\n",
      "24 error 0.0022283081210424547\n",
      "25 error 0.0018991600355688027\n",
      "26 error 0.001567463335674751\n",
      "27 error 0.0012530276679524764\n",
      "28 error 0.0009758780237528908\n",
      "29 error 0.0007564866970513515\n",
      "30 error 0.0006143574417801954\n",
      "31 error 0.000555550462117713\n",
      "sovonglap: 31\n",
      "32 error 0.0005584159228986795\n",
      "sovonglap: 32\n",
      "33 error 0.0005889720729725285\n",
      "sovonglap: 33\n",
      "34 error 0.0006237204841051487\n",
      "sovonglap: 34\n",
      "35 error 0.0006520638112862187\n",
      "sovonglap: 35\n",
      "129.26648592948914\n"
     ]
    }
   ],
   "source": [
    "z=np.random.rand ( (n1*n2))\n",
    "time1=time.time()\n",
    "X_new = main_loop(z, beta=1, mu=0.0001*mu0, loop_size=1000)\n",
    "print(time.time() - time1 )"
   ]
  },
  {
   "cell_type": "code",
   "execution_count": null,
   "metadata": {
    "colab": {
     "base_uri": "https://localhost:8080/"
    },
    "id": "sUVgSCTwc6NB",
    "outputId": "7ac354cd-f6fe-409c-cd9f-884c6a022c42"
   },
   "outputs": [],
   "source": []
  }
 ],
 "metadata": {
  "colab": {
   "provenance": []
  },
  "kernelspec": {
   "display_name": "Python 3 (ipykernel)",
   "language": "python",
   "name": "python3"
  },
  "language_info": {
   "codemirror_mode": {
    "name": "ipython",
    "version": 3
   },
   "file_extension": ".py",
   "mimetype": "text/x-python",
   "name": "python",
   "nbconvert_exporter": "python",
   "pygments_lexer": "ipython3",
   "version": "3.9.12"
  }
 },
 "nbformat": 4,
 "nbformat_minor": 1
}
